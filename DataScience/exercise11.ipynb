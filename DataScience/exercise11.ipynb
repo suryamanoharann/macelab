{
 "cells": [
  {
   "cell_type": "code",
   "execution_count": 8,
   "id": "8cd1f50c",
   "metadata": {},
   "outputs": [
    {
     "name": "stdout",
     "output_type": "stream",
     "text": [
      "\n",
      "🔹Train-Test Split: 80-20\n",
      "Accuracy: 0.9737\n",
      "Confusion Matrix:\n",
      " [[71  0]\n",
      " [ 3 40]]\n",
      "Classification Report:\n",
      "               precision    recall  f1-score   support\n",
      "\n",
      "           B       0.96      1.00      0.98        71\n",
      "           M       1.00      0.93      0.96        43\n",
      "\n",
      "    accuracy                           0.97       114\n",
      "   macro avg       0.98      0.97      0.97       114\n",
      "weighted avg       0.97      0.97      0.97       114\n",
      "\n",
      "\n",
      "🔹Train-Test Split: 70-30\n",
      "Accuracy: 0.9415\n",
      "Confusion Matrix:\n",
      " [[104   4]\n",
      " [  6  57]]\n",
      "Classification Report:\n",
      "               precision    recall  f1-score   support\n",
      "\n",
      "           B       0.95      0.96      0.95       108\n",
      "           M       0.93      0.90      0.92        63\n",
      "\n",
      "    accuracy                           0.94       171\n",
      "   macro avg       0.94      0.93      0.94       171\n",
      "weighted avg       0.94      0.94      0.94       171\n",
      "\n",
      "\n",
      "🔹Train-Test Split: 60-40\n",
      "Accuracy: 0.9518\n",
      "Confusion Matrix:\n",
      " [[144   4]\n",
      " [  7  73]]\n",
      "Classification Report:\n",
      "               precision    recall  f1-score   support\n",
      "\n",
      "           B       0.95      0.97      0.96       148\n",
      "           M       0.95      0.91      0.93        80\n",
      "\n",
      "    accuracy                           0.95       228\n",
      "   macro avg       0.95      0.94      0.95       228\n",
      "weighted avg       0.95      0.95      0.95       228\n",
      "\n"
     ]
    }
   ],
   "source": [
    "import pandas as pd\n",
    "from sklearn.model_selection import train_test_split\n",
    "from sklearn.naive_bayes import GaussianNB\n",
    "from sklearn.metrics import classification_report, confusion_matrix, accuracy_score\n",
    "\n",
    "# Load dataset\n",
    "cancer_df = pd.read_csv('Breast_Cancer.csv')\n",
    "\n",
    "# Drop unnecessary columns\n",
    "cancer_df.drop(['id', 'Unnamed: 32'], axis=1, inplace=True)\n",
    "\n",
    "# Separate features and target\n",
    "X = cancer_df.drop('diagnosis', axis=1)\n",
    "y = cancer_df['diagnosis']\n",
    "\n",
    "# Keep only numeric columns\n",
    "X_numeric = X.select_dtypes(include=['number'])\n",
    "\n",
    "# Train and evaluate (no imputation)\n",
    "for ratio in [0.2, 0.3, 0.4]:\n",
    "    X_train, X_test, y_train, y_test = train_test_split(X_numeric, y, test_size=ratio, random_state=42)\n",
    "    model = GaussianNB()\n",
    "    model.fit(X_train, y_train)\n",
    "    y_pred = model.predict(X_test)\n",
    "\n",
    "    print(f\"\\n🔹Train-Test Split: {int((1-ratio)*100)}-{int(ratio*100)}\")\n",
    "    print(\"Accuracy:\", round(accuracy_score(y_test, y_pred), 4))\n",
    "    print(\"Confusion Matrix:\\n\", confusion_matrix(y_test, y_pred))\n",
    "    print(\"Classification Report:\\n\", classification_report(y_test, y_pred))\n"
   ]
  },
  {
   "cell_type": "code",
   "execution_count": null,
   "id": "38031016",
   "metadata": {},
   "outputs": [],
   "source": []
  }
 ],
 "metadata": {
  "kernelspec": {
   "display_name": ".venv",
   "language": "python",
   "name": "python3"
  },
  "language_info": {
   "codemirror_mode": {
    "name": "ipython",
    "version": 3
   },
   "file_extension": ".py",
   "mimetype": "text/x-python",
   "name": "python",
   "nbconvert_exporter": "python",
   "pygments_lexer": "ipython3",
   "version": "3.10.12"
  }
 },
 "nbformat": 4,
 "nbformat_minor": 5
}
