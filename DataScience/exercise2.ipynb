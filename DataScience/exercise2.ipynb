{
 "cells": [
  {
   "cell_type": "code",
   "execution_count": 35,
   "id": "f68c8a29",
   "metadata": {},
   "outputs": [],
   "source": [
    "\n",
    "import pandas as pd\n",
    "\n",
    "df = pd.read_csv('Iris.csv') \n",
    "# Load Iris dataset\n",
    "# iris = load_iris()\n",
    "# df = pd.DataFrame(data=iris.data, columns=iris.feature_names)"
   ]
  },
  {
   "cell_type": "code",
   "execution_count": null,
   "id": "66222534",
   "metadata": {},
   "outputs": [
    {
     "name": "stdout",
     "output_type": "stream",
     "text": [
      "DataFrame:\n",
      "       Id  SepalLengthCm  SepalWidthCm  PetalLengthCm  PetalWidthCm  \\\n",
      "0      1            5.1           3.5            1.4           0.2   \n",
      "1      2            4.9           3.0            1.4           0.2   \n",
      "2      3            4.7           3.2            1.3           0.2   \n",
      "3      4            4.6           3.1            1.5           0.2   \n",
      "4      5            5.0           3.6            1.4           0.2   \n",
      "..   ...            ...           ...            ...           ...   \n",
      "145  146            6.7           3.0            5.2           2.3   \n",
      "146  147            6.3           2.5            5.0           1.9   \n",
      "147  148            6.5           3.0            5.2           2.0   \n",
      "148  149            6.2           3.4            5.4           2.3   \n",
      "149  150            5.9           3.0            5.1           1.8   \n",
      "\n",
      "            Species  \n",
      "0       Iris-setosa  \n",
      "1       Iris-setosa  \n",
      "2       Iris-setosa  \n",
      "3       Iris-setosa  \n",
      "4       Iris-setosa  \n",
      "..              ...  \n",
      "145  Iris-virginica  \n",
      "146  Iris-virginica  \n",
      "147  Iris-virginica  \n",
      "148  Iris-virginica  \n",
      "149  Iris-virginica  \n",
      "\n",
      "[150 rows x 6 columns]\n"
     ]
    }
   ],
   "source": [
    "#DataFrame\n",
    "print(\"DataFrame:\\n\", df)\n"
   ]
  },
  {
   "cell_type": "code",
   "execution_count": null,
   "id": "b3d3bf37",
   "metadata": {},
   "outputs": [
    {
     "name": "stdout",
     "output_type": "stream",
     "text": [
      "\n",
      "Head:\n",
      "    Id  SepalLengthCm  SepalWidthCm  PetalLengthCm  PetalWidthCm      Species\n",
      "0   1            5.1           3.5            1.4           0.2  Iris-setosa\n",
      "1   2            4.9           3.0            1.4           0.2  Iris-setosa\n",
      "2   3            4.7           3.2            1.3           0.2  Iris-setosa\n",
      "3   4            4.6           3.1            1.5           0.2  Iris-setosa\n",
      "4   5            5.0           3.6            1.4           0.2  Iris-setosa\n"
     ]
    }
   ],
   "source": [
    "#Head\n",
    "print(\"\\nHead:\\n\", df.head())"
   ]
  },
  {
   "cell_type": "code",
   "execution_count": null,
   "id": "24a4b7cd",
   "metadata": {},
   "outputs": [
    {
     "name": "stdout",
     "output_type": "stream",
     "text": [
      "\n",
      "Tail:\n",
      "       Id  SepalLengthCm  SepalWidthCm  PetalLengthCm  PetalWidthCm  \\\n",
      "145  146            6.7           3.0            5.2           2.3   \n",
      "146  147            6.3           2.5            5.0           1.9   \n",
      "147  148            6.5           3.0            5.2           2.0   \n",
      "148  149            6.2           3.4            5.4           2.3   \n",
      "149  150            5.9           3.0            5.1           1.8   \n",
      "\n",
      "            Species  \n",
      "145  Iris-virginica  \n",
      "146  Iris-virginica  \n",
      "147  Iris-virginica  \n",
      "148  Iris-virginica  \n",
      "149  Iris-virginica  \n"
     ]
    }
   ],
   "source": [
    "#Tail\n",
    "print(\"\\nTail:\\n\", df.tail())"
   ]
  },
  {
   "cell_type": "code",
   "execution_count": null,
   "id": "19136da0",
   "metadata": {},
   "outputs": [
    {
     "name": "stdout",
     "output_type": "stream",
     "text": [
      "\n",
      "Count:\n",
      " Id               150\n",
      "SepalLengthCm    150\n",
      "SepalWidthCm     150\n",
      "PetalLengthCm    150\n",
      "PetalWidthCm     150\n",
      "Species          150\n",
      "dtype: int64\n"
     ]
    }
   ],
   "source": [
    "#Count\n",
    "print(\"\\nCount:\\n\", df.count())"
   ]
  },
  {
   "cell_type": "code",
   "execution_count": null,
   "id": "1af90585",
   "metadata": {},
   "outputs": [
    {
     "name": "stdout",
     "output_type": "stream",
     "text": [
      "\n",
      "Sum:\n",
      " Id               11325.0\n",
      "SepalLengthCm      876.5\n",
      "SepalWidthCm       458.1\n",
      "PetalLengthCm      563.8\n",
      "PetalWidthCm       179.8\n",
      "dtype: float64\n"
     ]
    }
   ],
   "source": [
    "#sum\n",
    "print(\"\\nSum:\\n\", df.sum(numeric_only=True))"
   ]
  },
  {
   "cell_type": "code",
   "execution_count": null,
   "id": "bdfcb133",
   "metadata": {},
   "outputs": [
    {
     "name": "stdout",
     "output_type": "stream",
     "text": [
      "\n",
      "Mean:\n",
      " Id               75.500000\n",
      "SepalLengthCm     5.843333\n",
      "SepalWidthCm      3.054000\n",
      "PetalLengthCm     3.758667\n",
      "PetalWidthCm      1.198667\n",
      "dtype: float64\n"
     ]
    }
   ],
   "source": [
    "#mean\n",
    "print(\"\\nMean:\\n\", df.mean(numeric_only=True))"
   ]
  },
  {
   "cell_type": "code",
   "execution_count": null,
   "id": "42d79de8",
   "metadata": {},
   "outputs": [
    {
     "name": "stdout",
     "output_type": "stream",
     "text": [
      "\n",
      "Median:\n",
      " Id               75.50\n",
      "SepalLengthCm     5.80\n",
      "SepalWidthCm      3.00\n",
      "PetalLengthCm     4.35\n",
      "PetalWidthCm      1.30\n",
      "dtype: float64\n"
     ]
    }
   ],
   "source": [
    "#median\n",
    "print(\"\\nMedian:\\n\", df.median(numeric_only=True))"
   ]
  },
  {
   "cell_type": "code",
   "execution_count": null,
   "id": "2f33bfaa",
   "metadata": {},
   "outputs": [
    {
     "name": "stdout",
     "output_type": "stream",
     "text": [
      "\n",
      "Mode:\n",
      " Id                         1\n",
      "SepalLengthCm            5.0\n",
      "SepalWidthCm             3.0\n",
      "PetalLengthCm            1.5\n",
      "PetalWidthCm             0.2\n",
      "Species          Iris-setosa\n",
      "Name: 0, dtype: object\n"
     ]
    }
   ],
   "source": [
    "#mode\n",
    "print(\"\\nMode:\\n\", df.mode().iloc[0])"
   ]
  },
  {
   "cell_type": "code",
   "execution_count": null,
   "id": "6022ca35",
   "metadata": {},
   "outputs": [
    {
     "name": "stdout",
     "output_type": "stream",
     "text": [
      "\n",
      "Standard Deviation:\n",
      " Id               43.445368\n",
      "SepalLengthCm     0.828066\n",
      "SepalWidthCm      0.433594\n",
      "PetalLengthCm     1.764420\n",
      "PetalWidthCm      0.763161\n",
      "dtype: float64\n"
     ]
    }
   ],
   "source": [
    "#standard deviation\n",
    "print(\"\\nStandard Deviation:\\n\", df.std(numeric_only=True))"
   ]
  },
  {
   "cell_type": "code",
   "execution_count": null,
   "id": "765da780",
   "metadata": {},
   "outputs": [
    {
     "name": "stdout",
     "output_type": "stream",
     "text": [
      "\n",
      "Minimum:\n",
      " Id               1.0\n",
      "SepalLengthCm    4.3\n",
      "SepalWidthCm     2.0\n",
      "PetalLengthCm    1.0\n",
      "PetalWidthCm     0.1\n",
      "dtype: float64\n"
     ]
    }
   ],
   "source": [
    "#min\n",
    "print(\"\\nMinimum:\\n\", df.min(numeric_only=True))"
   ]
  },
  {
   "cell_type": "code",
   "execution_count": null,
   "id": "06768ea0",
   "metadata": {},
   "outputs": [
    {
     "name": "stdout",
     "output_type": "stream",
     "text": [
      "\n",
      "Maximum:\n",
      " Id               150.0\n",
      "SepalLengthCm      7.9\n",
      "SepalWidthCm       4.4\n",
      "PetalLengthCm      6.9\n",
      "PetalWidthCm       2.5\n",
      "dtype: float64\n"
     ]
    }
   ],
   "source": [
    "#max\n",
    "print(\"\\nMaximum:\\n\", df.max(numeric_only=True))"
   ]
  },
  {
   "cell_type": "code",
   "execution_count": null,
   "id": "50b3b1f1",
   "metadata": {},
   "outputs": [
    {
     "name": "stdout",
     "output_type": "stream",
     "text": [
      "\n",
      "Absolute Values (first 5 rows):\n",
      "    Id  SepalLengthCm  SepalWidthCm  PetalLengthCm  PetalWidthCm\n",
      "0   1            5.1           3.5            1.4           0.2\n",
      "1   2            4.9           3.0            1.4           0.2\n",
      "2   3            4.7           3.2            1.3           0.2\n",
      "3   4            4.6           3.1            1.5           0.2\n",
      "4   5            5.0           3.6            1.4           0.2\n"
     ]
    }
   ],
   "source": [
    "#abs\n",
    "print(\"\\nAbsolute Values (first 5 rows):\\n\", df.select_dtypes(include='number').abs().head())"
   ]
  },
  {
   "cell_type": "code",
   "execution_count": null,
   "id": "b90cf622",
   "metadata": {},
   "outputs": [
    {
     "name": "stdout",
     "output_type": "stream",
     "text": [
      "\n",
      "Product:\n",
      " Id                0.000000e+00\n",
      "SepalLengthCm    2.257440e+114\n",
      "SepalWidthCm      1.197477e+72\n",
      "PetalLengthCm     3.774489e+76\n",
      "PetalWidthCm      2.972714e-12\n",
      "dtype: float64\n"
     ]
    }
   ],
   "source": [
    "#prod\n",
    "print(\"\\nProduct:\\n\", df.prod(numeric_only=True))"
   ]
  },
  {
   "cell_type": "code",
   "execution_count": null,
   "id": "6a879e04",
   "metadata": {},
   "outputs": [
    {
     "name": "stdout",
     "output_type": "stream",
     "text": [
      "\n",
      "Cumulative Sum (first 5 rows):\n",
      "    Id  SepalLengthCm  SepalWidthCm  PetalLengthCm  PetalWidthCm\n",
      "0   1            5.1           3.5            1.4           0.2\n",
      "1   3           10.0           6.5            2.8           0.4\n",
      "2   6           14.7           9.7            4.1           0.6\n",
      "3  10           19.3          12.8            5.6           0.8\n",
      "4  15           24.3          16.4            7.0           1.0\n"
     ]
    }
   ],
   "source": [
    "#cumsum\n",
    "print(\"\\nCumulative Sum (first 5 rows):\\n\", df.select_dtypes(include='number').cumsum().head())"
   ]
  },
  {
   "cell_type": "code",
   "execution_count": 34,
   "id": "3c8e6d5e",
   "metadata": {},
   "outputs": [
    {
     "name": "stdout",
     "output_type": "stream",
     "text": [
      "\n",
      "Cumulative Product (first 5 rows):\n",
      "     Id  SepalLengthCm  SepalWidthCm  PetalLengthCm  PetalWidthCm\n",
      "0    1         5.1000         3.500         1.4000       0.20000\n",
      "1    2        24.9900        10.500         1.9600       0.04000\n",
      "2    6       117.4530        33.600         2.5480       0.00800\n",
      "3   24       540.2838       104.160         3.8220       0.00160\n",
      "4  120      2701.4190       374.976         5.3508       0.00032\n"
     ]
    }
   ],
   "source": [
    "#cumproad\n",
    "print(\"\\nCumulative Product (first 5 rows):\\n\", df.select_dtypes(include='number').cumprod().head())"
   ]
  },
  {
   "cell_type": "code",
   "execution_count": null,
   "id": "70b07732",
   "metadata": {},
   "outputs": [
    {
     "name": "stdout",
     "output_type": "stream",
     "text": [
      "\n",
      "Info:\n",
      "<class 'pandas.core.frame.DataFrame'>\n",
      "RangeIndex: 150 entries, 0 to 149\n",
      "Data columns (total 6 columns):\n",
      " #   Column         Non-Null Count  Dtype  \n",
      "---  ------         --------------  -----  \n",
      " 0   Id             150 non-null    int64  \n",
      " 1   SepalLengthCm  150 non-null    float64\n",
      " 2   SepalWidthCm   150 non-null    float64\n",
      " 3   PetalLengthCm  150 non-null    float64\n",
      " 4   PetalWidthCm   150 non-null    float64\n",
      " 5   Species        150 non-null    object \n",
      "dtypes: float64(4), int64(1), object(1)\n",
      "memory usage: 7.2+ KB\n"
     ]
    }
   ],
   "source": [
    "#info\n",
    "print(\"\\nInfo:\") \n",
    "df.info()"
   ]
  },
  {
   "cell_type": "code",
   "execution_count": null,
   "id": "f2d59216",
   "metadata": {},
   "outputs": [
    {
     "name": "stdout",
     "output_type": "stream",
     "text": [
      "\n",
      "Shape: (150, 6)\n"
     ]
    }
   ],
   "source": [
    "#shape\n",
    "print(\"\\nShape:\", df.shape)"
   ]
  },
  {
   "cell_type": "code",
   "execution_count": 33,
   "id": "70eb3b87",
   "metadata": {},
   "outputs": [
    {
     "name": "stdout",
     "output_type": "stream",
     "text": [
      "\n",
      "Describe:\n",
      "                Id  SepalLengthCm  SepalWidthCm  PetalLengthCm  PetalWidthCm\n",
      "count  150.000000     150.000000    150.000000     150.000000    150.000000\n",
      "mean    75.500000       5.843333      3.054000       3.758667      1.198667\n",
      "std     43.445368       0.828066      0.433594       1.764420      0.763161\n",
      "min      1.000000       4.300000      2.000000       1.000000      0.100000\n",
      "25%     38.250000       5.100000      2.800000       1.600000      0.300000\n",
      "50%     75.500000       5.800000      3.000000       4.350000      1.300000\n",
      "75%    112.750000       6.400000      3.300000       5.100000      1.800000\n",
      "max    150.000000       7.900000      4.400000       6.900000      2.500000\n"
     ]
    }
   ],
   "source": [
    "#describe\n",
    "print(\"\\nDescribe:\\n\", df.describe())"
   ]
  }
 ],
 "metadata": {
  "kernelspec": {
   "display_name": ".venv",
   "language": "python",
   "name": "python3"
  },
  "language_info": {
   "codemirror_mode": {
    "name": "ipython",
    "version": 3
   },
   "file_extension": ".py",
   "mimetype": "text/x-python",
   "name": "python",
   "nbconvert_exporter": "python",
   "pygments_lexer": "ipython3",
   "version": "3.10.12"
  }
 },
 "nbformat": 4,
 "nbformat_minor": 5
}
