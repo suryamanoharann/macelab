{
 "cells": [
  {
   "cell_type": "code",
   "execution_count": 23,
   "id": "51473da7",
   "metadata": {},
   "outputs": [
    {
     "name": "stdout",
     "output_type": "stream",
     "text": [
      "Accuracy: 1.0\n",
      "Predicted species for new instance: Iris-setosa\n"
     ]
    }
   ],
   "source": [
    "import pandas as pd\n",
    "import numpy as np\n",
    "from collections import Counter\n",
    "from sklearn.model_selection import train_test_split\n",
    "from sklearn.preprocessing import StandardScaler\n",
    "\n",
    "# Load and prepare the dataset\n",
    "df = pd.read_csv('Iris.csv')\n",
    "df = df.drop('Id', axis=1)\n",
    "\n",
    "# Separate features and labels\n",
    "X = df.drop('Species', axis=1).values\n",
    "y = df['Species'].values  # Convert to NumPy array\n",
    "\n",
    "# Split into training and testing sets\n",
    "X_train, X_test, y_train, y_test = train_test_split(X, y, test_size=0.2, random_state=42)\n",
    "\n",
    "# Standardize the features\n",
    "scaler = StandardScaler()\n",
    "X_train_scaled = scaler.fit_transform(X_train)\n",
    "X_test_scaled = scaler.transform(X_test)\n",
    "\n",
    "# Define the kNN algorithm from scratch\n",
    "def euclidean_distance(x1, x2):\n",
    "    return np.sqrt(np.sum((x1 - x2) ** 2))\n",
    "\n",
    "def knn_predict(X_train, y_train, x_new, k=3):\n",
    "    distances = [euclidean_distance(x_new, x_train) for x_train in X_train]\n",
    "    k_indices = np.argsort(distances)[:k]\n",
    "    k_labels = [y_train[i] for i in k_indices]  # Now safe: y_train is a NumPy array\n",
    "    most_common = Counter(k_labels).most_common(1)\n",
    "    return most_common[0][0]\n",
    "\n",
    "# Predict labels for the test set\n",
    "y_pred = [knn_predict(X_train_scaled, y_train, x, k=3) for x in X_test_scaled]\n",
    "\n",
    "# Evaluate accuracy\n",
    "accuracy = np.mean(y_pred == y_test)\n",
    "print(\"Accuracy:\", accuracy)\n",
    "\n",
    "# Predict a new instance\n",
    "new_instance = [[5.1, 3.5, 1.4, 0.2]]\n",
    "new_instance_scaled = scaler.transform(new_instance)\n",
    "new_prediction = knn_predict(X_train_scaled, y_train, new_instance_scaled[0], k=3)\n",
    "print(\"Predicted species for new instance:\", new_prediction)\n"
   ]
  },
  {
   "cell_type": "code",
   "execution_count": null,
   "id": "d7ec562f",
   "metadata": {},
   "outputs": [],
   "source": []
  }
 ],
 "metadata": {
  "kernelspec": {
   "display_name": ".venv",
   "language": "python",
   "name": "python3"
  },
  "language_info": {
   "codemirror_mode": {
    "name": "ipython",
    "version": 3
   },
   "file_extension": ".py",
   "mimetype": "text/x-python",
   "name": "python",
   "nbconvert_exporter": "python",
   "pygments_lexer": "ipython3",
   "version": "3.10.12"
  }
 },
 "nbformat": 4,
 "nbformat_minor": 5
}
